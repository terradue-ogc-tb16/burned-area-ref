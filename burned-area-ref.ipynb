{
 "cells": [
  {
   "cell_type": "markdown",
   "metadata": {},
   "source": [
    "## Burned area \n",
    "\n",
    "Data by reference"
   ]
  },
  {
   "cell_type": "code",
   "execution_count": 2,
   "metadata": {},
   "outputs": [],
   "source": [
    "workflow = dict([('id', 'burned-area-ref'),\n",
    "                ('label', 'Sentinel-2 burned area - by reference'),\n",
    "                ('doc', 'Sentinel-2 burned area with NDVI/NDWI threshold  - by reference')])\n"
   ]
  },
  {
   "cell_type": "code",
   "execution_count": 3,
   "metadata": {},
   "outputs": [],
   "source": [
    "ndvi_threshold = dict([('id', 'ndvi_threshold'),\n",
    "                       ('value', '0.19'),\n",
    "                       ('label', 'NDVI difference threshold'),\n",
    "                       ('doc', 'NDVI difference threshold'),\n",
    "                       ('type', 'string')])"
   ]
  },
  {
   "cell_type": "code",
   "execution_count": 4,
   "metadata": {},
   "outputs": [],
   "source": [
    "ndwi_threshold = dict([('id', 'ndwi_threshold'),\n",
    "                       ('value', '0.18'),\n",
    "                       ('label', 'NDWI difference threshold'),\n",
    "                       ('doc', 'NDWI difference threshold'),\n",
    "                       ('type', 'string')])"
   ]
  },
  {
   "cell_type": "code",
   "execution_count": 5,
   "metadata": {},
   "outputs": [],
   "source": [
    "pre_event = dict([('id', 'pre_event'),\n",
    "                  ('label', 'Sentinel-2 Level-2A pre-event'),\n",
    "                  ('doc', 'Sentinel-2 Level-2A pre-event acquisition'),\n",
    "                  ('value', 'https://earth-search.aws.element84.com/v0/collections/sentinel-s2-l2a-cogs/items/S2B_36RTT_20191205_0_L2A'), \n",
    "                  ('type', 'string')])"
   ]
  },
  {
   "cell_type": "code",
   "execution_count": 6,
   "metadata": {},
   "outputs": [],
   "source": [
    "post_event = dict([('id', 'post_event'),\n",
    "                  ('label', 'Sentinel-2 Level-2A post-event'),\n",
    "                  ('doc', 'Sentinel-2 Level-2A post-event acquisition'),\n",
    "                  ('value', 'https://earth-search.aws.element84.com/v0/collections/sentinel-s2-l2a-cogs/items/S2B_36RTT_20191215_0_L2A'), \n",
    "                  ('type', 'string')])"
   ]
  },
  {
   "cell_type": "code",
   "execution_count": 26,
   "metadata": {},
   "outputs": [],
   "source": [
    "aoi = dict([('id', 'aoi'), \n",
    "              ('label', 'Area of interest'),\n",
    "              ('doc', 'Area of interest in WKT'),\n",
    "              ('value', 'POLYGON ((30.65048143702968 29.20941121137225, 30.55208512239273 29.20941121137225, 30.55208512239273 29.41579198800653, 30.65048143702968 29.41579198800653, 30.65048143702968 29.20941121137225))'), \n",
    "              ('type', 'string')])"
   ]
  },
  {
   "cell_type": "code",
   "execution_count": 7,
   "metadata": {},
   "outputs": [],
   "source": [
    "%load_ext autoreload\n",
    "%autoreload 2"
   ]
  },
  {
   "cell_type": "code",
   "execution_count": 8,
   "metadata": {},
   "outputs": [],
   "source": [
    "import os\n",
    "import sys \n",
    "from pystac import *\n",
    "import gdal\n",
    "import numpy as np\n",
    "import datetime\n",
    "from helpers import *\n",
    "import shutil\n",
    "from shapely.geometry import Polygon, mapping, shape\n",
    "from shapely.ops import cascaded_union"
   ]
  },
  {
   "cell_type": "code",
   "execution_count": 9,
   "metadata": {},
   "outputs": [],
   "source": [
    "gdal.UseExceptions()"
   ]
  },
  {
   "cell_type": "code",
   "execution_count": 12,
   "metadata": {},
   "outputs": [],
   "source": [
    "s2_item_pre = S2_stac_item(pre_event['value'])\n",
    "s2_item_post = S2_stac_item(post_event['value'])\n",
    "\n",
    "s2_items = dict()\n",
    "s2_items['pre-event'] = S2_stac_item(pre_event['value'])\n",
    "s2_items['post-event'] = S2_stac_item(post_event['value'])"
   ]
  },
  {
   "cell_type": "code",
   "execution_count": 27,
   "metadata": {},
   "outputs": [],
   "source": [
    "dates = []\n",
    "bboxes = []\n",
    "\n",
    "for index, item in enumerate([s2_item_pre.item, s2_item_post.item]):\n",
    "\n",
    "    dates.append(item.datetime)\n",
    "    bboxes.append(shape(item.geometry).bounds)\n",
    "\n",
    "    vrt_bands = []\n",
    "\n",
    "    for band in ['B04', 'B08', 'B11', 'SCL']:\n",
    "\n",
    "        vrt_bands.append('/vsicurl/{}'.format(item.assets[band].get_absolute_href()))\n",
    "\n",
    "    vrt = '{}.vrt'.format('pre_event' if index == 0 else 'post_event')\n",
    "    tif = '{}.tif'.format('pre_event' if index == 0 else 'post_event')\n",
    "\n",
    "    ds = gdal.BuildVRT(vrt,\n",
    "                       vrt_bands,\n",
    "                       srcNodata=0,\n",
    "                       xRes=10, \n",
    "                       yRes=10,\n",
    "                       separate=True)\n",
    "    ds.FlushCache()\n",
    "\n",
    "\n",
    "    min_lon, min_lat, max_lon, max_lat = loads(aoi['value']).bounds\n",
    "\n",
    "    gdal.Translate(tif,\n",
    "                   vrt,\n",
    "                   outputType=gdal.GDT_UInt16,\n",
    "                   projWin=[min_lon, max_lat, max_lon, min_lat],\n",
    "                   projWinSRS='EPSG:4326')\n",
    "\n",
    "    os.remove(vrt)"
   ]
  },
  {
   "cell_type": "code",
   "execution_count": 28,
   "metadata": {},
   "outputs": [],
   "source": [
    "ds = gdal.Open('pre_event.tif')\n",
    "\n",
    "pre_b04 = ds.GetRasterBand(1).ReadAsArray()\n",
    "pre_b08 = ds.GetRasterBand(2).ReadAsArray()\n",
    "pre_b11 = ds.GetRasterBand(3).ReadAsArray()\n",
    "pre_scl = ds.GetRasterBand(4).ReadAsArray()\n",
    "\n",
    "ds = None\n",
    "\n",
    "os.remove('pre_event.tif')"
   ]
  },
  {
   "cell_type": "code",
   "execution_count": 29,
   "metadata": {},
   "outputs": [],
   "source": [
    "ds = gdal.Open('post_event.tif')\n",
    "\n",
    "post_b04 = ds.GetRasterBand(1).ReadAsArray()\n",
    "post_b08 = ds.GetRasterBand(2).ReadAsArray()\n",
    "post_b11 = ds.GetRasterBand(3).ReadAsArray()\n",
    "post_scl = ds.GetRasterBand(4).ReadAsArray()\n",
    "\n",
    "width = ds.RasterXSize\n",
    "height = ds.RasterYSize\n",
    "\n",
    "input_geotransform = ds.GetGeoTransform()\n",
    "input_georef = ds.GetProjectionRef()\n",
    "\n",
    "ds = None\n",
    "\n",
    "os.remove('post_event.tif')"
   ]
  },
  {
   "cell_type": "code",
   "execution_count": 30,
   "metadata": {},
   "outputs": [],
   "source": [
    "gain = 10000\n",
    "\n",
    "pre_ndwi2 = (pre_b08 / gain - pre_b11 / gain) / (pre_b08 / gain  + pre_b11 / gain)\n",
    "post_ndwi2 = (post_b08 / gain - post_b11 / gain) / (post_b08 / gain + post_b11 / gain)\n",
    "\n",
    "pre_b11 = None\n",
    "post_b11 = None\n",
    "\n",
    "pre_ndvi = (pre_b08 / gain - pre_b04 / gain) / (pre_b08 / gain  + pre_b04 / gain)\n",
    "post_ndvi = (post_b08 / gain - post_b04 / gain) / (post_b08 / gain + post_b04 / gain)\n",
    "\n",
    "pre_b04 = None\n",
    "post_b04 = None\n",
    "\n",
    "pre_b08 = None\n",
    "post_b08 = None\n",
    "\n",
    "conditions = (((post_ndwi2 - pre_ndwi2) > float(ndwi_threshold['value'])) & ((post_ndvi - pre_ndvi) > float(ndvi_threshold['value'])) & (pre_scl == 4) | (post_scl == 4))  \n",
    "\n",
    "burned = np.zeros((height, width), dtype=np.uint8) \n",
    "\n",
    "burned[conditions] = 1\n",
    "\n",
    "pre_ndwi2 = None\n",
    "post_ndwi2 = None\n",
    "\n",
    "pre_ndvi = None\n",
    "post_ndvi = None\n",
    "\n",
    "burned[np.where((pre_scl == 0) | (post_scl == 0) | (pre_scl == 1) | (post_scl == 1) | (pre_scl == 5) | (post_scl == 5) | (pre_scl == 6) | (post_scl == 6) | (pre_scl == 7) | (post_scl == 7) | (pre_scl == 8) | (post_scl == 8) | (pre_scl == 9) | (post_scl == 9))] = 2 "
   ]
  },
  {
   "cell_type": "code",
   "execution_count": 31,
   "metadata": {},
   "outputs": [],
   "source": [
    "output_name = 'S2_BURNED_AREA_{}'.format('_'.join([d.strftime(\"%Y%m%d\") for d in dates])) \n",
    "\n",
    "write_tif(burned, '{}.tif'.format(output_name), width, height, input_geotransform, input_georef)"
   ]
  },
  {
   "cell_type": "code",
   "execution_count": 32,
   "metadata": {},
   "outputs": [
    {
     "data": {
      "text/plain": [
       "<Catalog id=catalog>"
      ]
     },
     "execution_count": 32,
     "metadata": {},
     "output_type": "execute_result"
    }
   ],
   "source": [
    "catalog = Catalog(id='catalog', description='Results')\n",
    "\n",
    "catalog.clear_items()\n",
    "catalog.clear_children()"
   ]
  },
  {
   "cell_type": "code",
   "execution_count": 33,
   "metadata": {},
   "outputs": [],
   "source": [
    "result_titles = dict()\n",
    "\n",
    "result_titles[output_name] = {'title': 'Burned area analysis from Sentinel-2',\n",
    "                              'media_type': MediaType.COG}\n",
    "\n",
    "\n",
    "\n",
    "items = []\n",
    "\n",
    "for key, value in result_titles.items():\n",
    "\n",
    "    result_item = Item(id=key,\n",
    "                       geometry=s2_items['pre-event'].item.geometry,\n",
    "                       bbox=s2_items['pre-event'].item.bbox,\n",
    "                       datetime=s2_items['pre-event'].item.datetime,\n",
    "                       properties={})\n",
    "\n",
    "    result_item.add_asset(key='data',\n",
    "                          asset=Asset(href='./{}.tif'.format(key), \n",
    "                          media_type=value['media_type'], \n",
    "                          title=value['title']))\n",
    "\n",
    "    items.append(result_item)\n",
    "\n"
   ]
  },
  {
   "cell_type": "code",
   "execution_count": 34,
   "metadata": {},
   "outputs": [
    {
     "name": "stdout",
     "output_type": "stream",
     "text": [
      "* <Catalog id=catalog>\n",
      "  * <Item id=S2_BURNED_AREA_20191205_20191215>\n"
     ]
    },
    {
     "data": {
      "text/plain": [
       "'./S2_BURNED_AREA_20191205_20191215/S2_BURNED_AREA_20191205_20191215.tif'"
      ]
     },
     "execution_count": 34,
     "metadata": {},
     "output_type": "execute_result"
    }
   ],
   "source": [
    "catalog.add_items(items)\n",
    "\n",
    "catalog.describe()\n",
    "\n",
    "catalog.normalize_and_save(root_href='./',\n",
    "                           catalog_type=CatalogType.SELF_CONTAINED)\n",
    "\n",
    "\n",
    "shutil.move('{}.tif'.format(output_name), \n",
    "        os.path.join('./',\n",
    "                     output_name,\n",
    "                     '{}.tif'.format(output_name)))"
   ]
  },
  {
   "cell_type": "code",
   "execution_count": null,
   "metadata": {},
   "outputs": [],
   "source": []
  }
 ],
 "metadata": {
  "kernelspec": {
   "display_name": "Python [conda env:env_vi_ref]",
   "language": "python",
   "name": "conda-env-env_vi_ref-py"
  },
  "language_info": {
   "codemirror_mode": {
    "name": "ipython",
    "version": 3
   },
   "file_extension": ".py",
   "mimetype": "text/x-python",
   "name": "python",
   "nbconvert_exporter": "python",
   "pygments_lexer": "ipython3",
   "version": "3.7.8"
  }
 },
 "nbformat": 4,
 "nbformat_minor": 4
}
